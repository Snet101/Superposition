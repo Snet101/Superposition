{
 "cells": [
  {
   "cell_type": "markdown",
   "id": "0fd3fa67-6db2-4850-9d1f-85dc8e21c582",
   "metadata": {},
   "source": [
    "# Bernstein-Vazirani Algorithm\n",
    "_A Beginner Friendly Quantum Computing Tutorial using Qiskit_\n",
    "\n",
    "**Author**: Sanvi Nethikunta\n",
    "\n",
    "**Team**: Superposition"
   ]
  },
  {
   "cell_type": "markdown",
   "id": "285a2e54-6944-45a7-b919-c11bd9dc7951",
   "metadata": {},
   "source": [
    "<span style=\"font-size: 18px;\">**Introduction**</span>\n",
    "\n",
    "The **Bernstein-Vazirani (BV) Algorithm** is a quantum algorithm which was developed by Ethan Bernstein and Umesh Vazirani in 1992 designed to solve a special case of the _hidden shift problem_ (hidden string problem) more efficiently that classical computers. Given a black box function `f(x) = α ⋅ x (mod 2)`, where  `𝛼` is an unknown bit string and `⋅` is the bitwise dot product, the goal is to determine `𝛼`. A classical approach would need to query the function once for each bit of 𝛼, making the process take _n_ queries for _n_-bit string. The quantum version can find the unknown bit string `𝛼` with just one query which showcases the power of quantum superposition and quantum interference in this algorithm.\n",
    "\n",
    "This tutorial will walk you through the algorithm step by step using Qiskit, a popular quantum programming framework.\n",
    "\n",
    "---"
   ]
  },
  {
   "cell_type": "markdown",
   "id": "d930902f-ef50-46b9-bfba-965b1c266875",
   "metadata": {},
   "source": [
    "<span style=\"font-size: 18px;\">**Learning Goals**</span>\n",
    "\n",
    "By the end of this tutorial you will be able to:\n",
    "\n",
    "- Understand the problem the Bernstein Vazirani algorithm solves\n",
    "- Explain the quantum speedup and how quantum circuits can reveal hidden information efficiently\n",
    "- Build and simulate the Bernstein-Vazirani algorithm using Qiskit\n",
    "- Interpret the results of quantum measurements to recover the hidden string 𝛼\n",
    "- Recognize the power of quantum oracles and interference in quantum computing"
   ]
  },
  {
   "cell_type": "markdown",
   "id": "a225614c-1a78-4eb2-a30e-1ad2c8cee20d",
   "metadata": {},
   "source": [
    "<span style=\"font-size: 18px;\">**Background Information**</span>\n",
    "\n",
    "To understand the Bernstein-Vazarani algorithm, it helps to be familiar with these topics:\n",
    "\n",
    "**_Bra-Ket (Dirac) Notation_**\n",
    "\n",
    "Quantum states are often written using Dirac notation because it provides a simple way to describe complux quantum systems:\n",
    "\n",
    "1. **Ket Vector $| \\psi \\rangle $** : Represents a quantum state, or a column vector\n",
    "   - Example: $| \\psi \\rangle = \\begin{bmatrix} a \\\\ b \\end{bmatrix}$\n",
    "     where a and b are complex numbers that represent probability amplitudes.\n",
    "\n",
    "2. **Bra Vector $\\langle \\psi |$** : Represents the conjugate or dual of a ket vector.\n",
    "   - Example: $ \\langle \\psi | = \\begin{bmatrix} a^* & b^* \\end{bmatrix}$\n",
    "     where $a^*$ and $b^*$ are the complex conjugates of a and b.\n",
    " \n",
    " _**Quantum State Examples in Bra-Ket Notation**_\n",
    "\n",
    "1. **Basis States of Qubit:** \n",
    "     $|0\\rangle = \\begin{bmatrix} 1 \\\\ 0 \\end{bmatrix}, \\quad |1\\rangle = \\begin{bmatrix} 0 \\\\ 1 \\end{bmatrix}$\n",
    "\n",
    "3. **Qubit in Superposition:** $|\\psi\\rangle = \\alpha |0\\rangle + \\beta |1\\rangle$ \n",
    "     where α and β are complex numbers such that $|\\alpha|^2 + |\\beta|^2 = 1 $\n",
    "\n",
    "\n",
    "**Quantum Oracle** : A quantum oracle is a black box function or operation such as `f(x) = α ⋅ x (mod 2)` that takes a quantum state as as an input (x) and transforms it based on a specific function it represents. It is used in quantum algorithms to identify specific states of a quantum system by altering the phase or amplitude of those states."
   ]
  },
  {
   "cell_type": "markdown",
   "id": "fc41ebd8-d44c-48f2-a4cd-f1daaf595c56",
   "metadata": {},
   "source": [
    "**XOR Operation**\n",
    "\n",
    "In both classical and quantum computing, XOR is a fundamental logical operation where it returns 1 if the inputs are different and 0 if they are the same.\n",
    "Mathematical Notation: \n",
    "$$\n",
    "a \\oplus b =\n",
    "\\begin{cases}\n",
    "0 & \\text{if } a = b \\\\\n",
    "1 & \\text{if } a \\ne b\n",
    "\\end{cases}\n",
    "$$\n",
    "\n",
    "\n",
    "In the Bernstein-Vazirani algorithm, XOR shows up when we define how the oracle acts on a quantum state. The XOR lets the oracle write the output of f(x) without destroying superposition. It's this reversibly flipping that sets up the interference patterns we do in the final step of the algorithm to reveal `α`."
   ]
  },
  {
   "cell_type": "markdown",
   "id": "01ae780b-efa0-492a-aad4-f20500b5a12f",
   "metadata": {},
   "source": [
    "**The Hidden String Problem**\n",
    "Imagine you have access to a black box function (oracle) defined as `f(x) = α ⋅ x`  where `x` is an input bit string and `α` is a hidden bit string. The operator `⋅` is a bitwise dot product meaning:\n",
    "$$\n",
    "\\alpha \\cdot x \\mod 2 = \\left( \\sum_{i=1}^n \\alpha_i x_i \\right) \\mod 2\n",
    "$$\n",
    "To truly understand this problem lets to an example:\n",
    "Where:\n",
    "- `x` is a 3-bit input string (`000,010,100,110`)\n",
    "- `α` is a hidden 3-bit string (`α₁α₂α₃`) that you want to find\n",
    "- `⋅` is the bitwise dot product:\n",
    "  \n",
    "$$\n",
    "f(x) = (\\alpha_1 x_1 + \\alpha_2 x_2 + \\alpha_3 x_3) \\mod 2\n",
    "$$\n",
    "\n",
    "**Lets Use This Given data**:\n",
    "\n",
    "| x    | f(x) |\n",
    "|------|------|\n",
    "| 000  | 0    |\n",
    "| 010  | 1    |\n",
    "| 100  | 1    |\n",
    "| 110  | 0    |\n",
    "\n",
    "**Step 1**: Use `x = 010`\n",
    "\n",
    "Only bit 2 is 1 →  $ f(010) = \\alpha_2 = 1 \\Rightarrow \\alpha_2 = 1$\n",
    "\n",
    "**Step 2**: Use `x = 100`\n",
    "\n",
    "Only bit 1 is 1 →  \n",
    "$f(100) = \\alpha_1 = 1 \\Rightarrow \\alpha_1 = 1$\n",
    "\n",
    "**Step 3**: Use `x = 110`\n",
    "\n",
    "Bits 1 and 2 are 1 →  $f(110) = \\alpha_1 + \\alpha_2 = 1 + 1 = 2 \\mod 2 = 0$  \n",
    "This matches f(110) = 0, so it works.\n",
    "\n",
    "**Step 4**: Use `x = 000` (We did this last because it gives no useful information)\n",
    "\n",
    "All bits are 0 →  $f(000) = 0 $  \n",
    "Gives no info about α₃ directly, but since x₃ is always 0 in all queries, we assume:\n",
    "$\\alpha_3 = 0$\n",
    "\n",
    "**Final Answer**:\n",
    "Hidden α = 110\n",
    "\n"
   ]
  },
  {
   "cell_type": "markdown",
   "id": "4b06e54a-50a7-4724-a78b-cfc671f537e2",
   "metadata": {},
   "source": [
    "**Quantum Superposition**\n",
    "\n",
    "In classical computing, a bit is either `0` or `1`. But in quantum computing, a **qubit** can be in a **superposition** of both `0` and `1`:\n",
    "\n",
    "$$\n",
    "|\\psi\\rangle = \\alpha|0\\rangle + \\beta|1\\rangle\n",
    "$$\n",
    "\n",
    "Where:\n",
    "- α and β are complex numbers called amplitudes.\n",
    "- The probabilities of measuring the qubit in state `0` or `1` are $|\\alpha|^2$ and $ |\\beta|^2 $\n",
    "- The total probability must be 1: $\\alpha|^2 + |\\beta|^2 = 1 $.\n",
    "\n",
    "When we apply a **Hadamard gate**$ /H/ $ to a qubit, it puts it into an equal superposition:\n",
    "\n",
    "$$\n",
    "H|0\\rangle = \\frac{1}{\\sqrt{2}}(|0\\rangle + |1\\rangle)\n",
    "$$\n",
    "\n",
    "For _n_ qubits, this creates a superposition of all $ 2^n$ possible bit strings. This is called quantum parrallelism. This allows for **phase kickback** where a phase change to the target qubit with this Hadamard gate also affects the control qubit.\n",
    "\n",
    "**Quantum Interference**\n",
    "\n",
    "Quantum algorithms don’t just rely on superposition they also use interference to find the outcome of the hidden string α. Constructive interference increases the probability of the correct answer and destructive interference cancels out the incorrect one.\n",
    "\n",
    "**Quantum Entanglement**\n",
    "\n",
    "Quantum entanglement is a quantum phenomenon where two or more qubits become linked and the state of one qubit directly affects the state of the other qubit no matter how far apart they are.\n"
   ]
  },
  {
   "cell_type": "markdown",
   "id": "6fd7649f-9ec8-452c-84a3-513e4d7b234d",
   "metadata": {},
   "source": [
    "**Pauli-X Gate**\n",
    "\n",
    "The **Pauli-X gate** is one of the fundamental quantum gates, often referred to as the \"quantum NOT gate\" and similar to a classical CNOT gate. Its effect is to flip the state of a qubit. If the qubit is in the state $|0\\rangle$, the Pauli-X gate changes it to $|1\\rangle$, and vice versa:\n",
    "$X|0\\rangle = |1\\rangle, \\quad X|1\\rangle = |0\\rangle$\n",
    "\n",
    "In matrix form, the Pauli-X gate is represented as:\n",
    "$X = \n",
    "\\begin{bmatrix}\n",
    "0 & 1 \\\\\n",
    "1 & 0\n",
    "\\end{bmatrix}\n",
    "$\n",
    "\n",
    "In the Bernstein-Vazirani algorithm, the Pauli-X gate plays an important role in preparing the phase flip for the oracle. When making the oracle, the algorithm flips the state of certain qubits depending on the hidden binary string`α`. By carefully applying Pauli-X gates, the algorithm ensures that the correct phase is encoded into the system, making the hidden string detectable in the final measurement step."
   ]
  },
  {
   "cell_type": "markdown",
   "id": "2abcd1db-d180-4a20-a3aa-4c24e80b68d9",
   "metadata": {},
   "source": [
    "<span style=\"font-size: 18px;\">**Step by Step Bernstein Vazirani Algorithm Explanation**</span>\n",
    "\n"
   ]
  },
  {
   "cell_type": "markdown",
   "id": "c173fc48-4160-403b-b809-fb19d96bd1d7",
   "metadata": {},
   "source": [
    "**Step 1**: _Setting up Qubits_\n",
    "We want to build a quantum system to solve the hidden string problem using this algorithm so we need to set up the qubits correctly.\n",
    "\n",
    "We need _n_ input qubits in the state $|0\\rangle$ which represent the possible bit strings x. We also need one output qubit starting in the state $|1\\rangle$ which is used by the oracle to flip phase based on the function f(x)."
   ]
  },
  {
   "cell_type": "code",
   "execution_count": 11,
   "id": "adc66649-c00b-42b4-b20f-528390d8b70b",
   "metadata": {},
   "outputs": [],
   "source": [
    "#Import necessary components from Qiskit\n",
    "from qiskit import QuantumCircuit # Used to create the quantum circuits\n",
    "from qiskit.visualization import plot_bloch_multivector # Used to visualize qubit states on the Bloch sphere"
   ]
  },
  {
   "cell_type": "code",
   "execution_count": 12,
   "id": "18dbb816-3520-4357-a46c-0fe202eb251e",
   "metadata": {},
   "outputs": [],
   "source": [
    "#number of input bits in the hidden string α\n",
    "n = 3"
   ]
  },
  {
   "cell_type": "code",
   "execution_count": 13,
   "id": "7908a273-24a3-4c72-9131-eb0c00272358",
   "metadata": {},
   "outputs": [],
   "source": [
    "#create a quantum circuit with (n + 1) qubits: input + output\n",
    "qc = QuantumCircuit(n + 1)"
   ]
  },
  {
   "cell_type": "code",
   "execution_count": 14,
   "id": "665eac0f-9c49-4603-a866-3cb115550bbc",
   "metadata": {},
   "outputs": [
    {
     "data": {
      "text/plain": [
       "<qiskit.circuit.instructionset.InstructionSet at 0x184fd5fb7c0>"
      ]
     },
     "execution_count": 14,
     "metadata": {},
     "output_type": "execute_result"
    }
   ],
   "source": [
    "#Set the output qubit to |1⟩ using a Pauli X gate\n",
    "qc.x(n)"
   ]
  },
  {
   "cell_type": "code",
   "execution_count": 15,
   "id": "fce7dc95-d173-4515-a9ad-58fe3e3ef9a4",
   "metadata": {},
   "outputs": [
    {
     "data": {
      "text/plain": [
       "CircuitInstruction(operation=Instruction(name='barrier', num_qubits=4, num_clbits=0, params=[]), qubits=(<Qubit register=(4, \"q\"), index=0>, <Qubit register=(4, \"q\"), index=1>, <Qubit register=(4, \"q\"), index=2>, <Qubit register=(4, \"q\"), index=3>), clbits=())"
      ]
     },
     "execution_count": 15,
     "metadata": {},
     "output_type": "execute_result"
    }
   ],
   "source": [
    "#Add a visual barrier for better readability\n",
    "qc.barrier()"
   ]
  },
  {
   "cell_type": "code",
   "execution_count": 16,
   "id": "c20d9b78-44d5-457f-afa2-a5d313a47848",
   "metadata": {},
   "outputs": [
    {
     "data": {
      "image/png": "[encoded data removed]",
      "text/plain": [
       "<Figure size 287.496x367.889 with 1 Axes>"
      ]
     },
     "execution_count": 16,
     "metadata": {},
     "output_type": "execute_result"
    }
   ],
   "source": [
    "#Show the circuit\n",
    "qc.draw('mpl')"
   ]
  },
  {
   "cell_type": "markdown",
   "id": "7fbdebe7-2704-4b2c-996b-cf9ff6842be7",
   "metadata": {},
   "source": [
    "The diagram of the circuit shows qubits 0,1, and 2 (The input) are in |0⟩ and Qubit 3 (the output) is flipped to |1⟩ using the Pauli X gate code of qc.x(n). This sets up the quantum system so we can move on to the superposition stage in step 2."
   ]
  },
  {
   "cell_type": "markdown",
   "id": "bec7dd69-3f69-4785-a25f-601953077b1f",
   "metadata": {},
   "source": [
    "**Step 2**: _Applying Hadamard Gates_\n",
    "\n",
    "We need to apply the Hadamard gates to put the input qubits into superposition so it can represent all the possible x values at once. We then put the output qubit into a Bell State (|0⟩ - |1⟩)/√2 which enables phase kickback. The input qubits now represent all bit strings such as 000, 0001, etc... all at once. The output qubit is now ready to flip the phase based on the oracle's result."
   ]
  },
  {
   "cell_type": "code",
   "execution_count": 19,
   "id": "60575875-26a8-4dd0-abd9-ef798c13a040",
   "metadata": {},
   "outputs": [],
   "source": [
    "#Apply Hadamard gates to all qubits (including the output qubit)\n",
    "for i in range(n +1): #n input qubits + 1 output qubit\n",
    "    qc.h(i) # Hadamard transforms |0⟩ to (|0⟩ + |1⟩)/√2 and |1⟩ to (|0⟩ - |1⟩)/√2"
   ]
  },
  {
   "cell_type": "code",
   "execution_count": 20,
   "id": "2ebbde49-3f87-448a-8b3f-9c10063c7fe3",
   "metadata": {},
   "outputs": [
    {
     "data": {
      "image/png": "[encoded data removed]",
      "text/plain": [
       "<Figure size 454.719x367.889 with 1 Axes>"
      ]
     },
     "execution_count": 20,
     "metadata": {},
     "output_type": "execute_result"
    }
   ],
   "source": [
    "qc.barrier()\n",
    "qc.draw('mpl')"
   ]
  },
  {
   "cell_type": "markdown",
   "id": "6afd2459-12db-4cb9-90f7-f4ba286bd3a4",
   "metadata": {},
   "source": [
    "The diagram of the curcuit shows the all the qubits with the Hadamard Gate applied to it. "
   ]
  },
  {
   "cell_type": "markdown",
   "id": "8fc0bc8f-2f99-4799-9bc8-688ca267914b",
   "metadata": {},
   "source": [
    "**Step 3**: _Apply the Oracle_\n",
    "This is where we encode the hidden string α into the quantum state by using a quantum oracle. The oracle flips the phase of each |x⟩ based on (-1)^(α ⋅ x)\n",
    "\n",
    "To do this for each bit in  α: \n",
    "If the bit is 1 we apply a CNOT gate from input qubit to the output qibit and if the bit is 0 we do nothing (because it has no effect on the output).\n",
    "\n",
    "This applies the function:f(x) = α₁x₁ + α₂x₂ + ... + αₙxₙ  mod 2"
   ]
  },
  {
   "cell_type": "code",
   "execution_count": 23,
   "id": "7e7d9f07-b6df-420a-b672-156d2836e6f1",
   "metadata": {},
   "outputs": [],
   "source": [
    "#Define the hidden string α\n",
    "alpha = '110' #This is the hidden bit string we are trying to find"
   ]
  },
  {
   "cell_type": "code",
   "execution_count": 24,
   "id": "3ce01b14-3d98-4e5e-b37f-e424c5ad1d02",
   "metadata": {},
   "outputs": [],
   "source": [
    "#Apply the oracle\n",
    "for i in range(n):\n",
    "    if alpha[i] == '1':\n",
    "        qc.cx(i,n) #Apply CNOT from input qubit i to output qubit (qubit n)"
   ]
  },
  {
   "cell_type": "markdown",
   "id": "8055584d-b74d-44bb-a0ab-7e4358cb01cb",
   "metadata": {},
   "source": [
    "_We loop over each bit of the hidden string α. If the bit is 1 we apply a CNOT gate and this simulates to function f(x) = α ⋅ x mod 2. The phase gets flipped depending on the value of f(x)._"
   ]
  },
  {
   "cell_type": "code",
   "execution_count": 26,
   "id": "9990d12a-a7a6-4079-907d-5892a711d0d8",
   "metadata": {},
   "outputs": [
    {
     "data": {
      "image/png": "[encoded data removed]",
      "text/plain": [
       "<Figure size 705.552x367.889 with 1 Axes>"
      ]
     },
     "execution_count": 26,
     "metadata": {},
     "output_type": "execute_result"
    }
   ],
   "source": [
    "qc.barrier()\n",
    "qc.draw('mpl')"
   ]
  },
  {
   "cell_type": "markdown",
   "id": "ec7cdb11-c3d1-4437-a727-f8513ada892c",
   "metadata": {},
   "source": [
    "The circuit diagram shows how the CNOTs were used to encode α into phase. The input qubits entable with the output qubit. The output qubit flips depending on the bits of x."
   ]
  },
  {
   "cell_type": "markdown",
   "id": "325ebe45-31ec-4622-9acc-86de4a35d5eb",
   "metadata": {},
   "source": [
    "**Step 4**: Apply Hadamard Gates Again\n",
    "\n",
    "After the oracle has added phase flips, we apply Hadamards to the input qubits again to convert the pjase information into a measurable output. This will turn the state into |α⟩ which is really cool because the quantum math works out so the final state directly encodes the hidden string."
   ]
  },
  {
   "cell_type": "code",
   "execution_count": 29,
   "id": "fa74bf71-2f1b-4b3b-b11c-e9ab8d43f3f0",
   "metadata": {},
   "outputs": [],
   "source": [
    "#Apply Hadamard gates to the input qubits again (not the output qubit)\n",
    "for i in range(n):\n",
    "    qc.h(i)"
   ]
  },
  {
   "cell_type": "markdown",
   "id": "86b83ef6-fee3-438f-8cc6-f823206d2e25",
   "metadata": {},
   "source": [
    "_These hadamard gates decode the phase information and after this the input register will hold the actual value of α._"
   ]
  },
  {
   "cell_type": "code",
   "execution_count": 31,
   "id": "0ed338b0-e492-4e2d-8a07-4ce55575df9a",
   "metadata": {},
   "outputs": [
    {
     "data": {
      "image/png": "[encoded data removed]",
      "text/plain": [
       "<Figure size 872.774x367.889 with 1 Axes>"
      ]
     },
     "execution_count": 31,
     "metadata": {},
     "output_type": "execute_result"
    }
   ],
   "source": [
    "qc.barrier()\n",
    "qc.draw('mpl')"
   ]
  },
  {
   "cell_type": "markdown",
   "id": "0cb47fa4-94ea-459e-8bc7-1150900aafde",
   "metadata": {},
   "source": [
    "The diagram of the circuit show how the Hadamard gates decode the phase flip into an actual classical value stored in the qubits. Now the state is |α⟩ |some_output⟩."
   ]
  },
  {
   "cell_type": "markdown",
   "id": "367be026-0f18-4aff-8715-5d6d2588fbb1",
   "metadata": {},
   "source": [
    "**Step 5**: _Measure qubits_\n",
    "\n",
    "Now that the input qubits store α, we have to measure them to get the hidden string. "
   ]
  },
  {
   "cell_type": "code",
   "execution_count": 34,
   "id": "d361482d-cc47-467d-9c3a-7f3efafe97ea",
   "metadata": {},
   "outputs": [],
   "source": [
    "from qiskit import ClassicalRegister\n",
    "#Add n classical bits for measurement without resetting the existing circuit\n",
    "qc.add_register(ClassicalRegister(n))"
   ]
  },
  {
   "cell_type": "code",
   "execution_count": 35,
   "id": "b4523cef-12bb-4368-982e-d93911b31c3a",
   "metadata": {},
   "outputs": [],
   "source": [
    "#Measure the input qubits and store results in classical bits\n",
    "for i in range(n):\n",
    "    qc.measure(i, i)"
   ]
  },
  {
   "cell_type": "code",
   "execution_count": 36,
   "id": "5de84da1-65c1-4190-b02d-08f9652755b7",
   "metadata": {},
   "outputs": [
    {
     "data": {
      "image/png": "[encoded data removed]",
      "text/plain": [
       "<Figure size 1123.61x451.5 with 1 Axes>"
      ]
     },
     "execution_count": 36,
     "metadata": {},
     "output_type": "execute_result"
    }
   ],
   "source": [
    "qc.draw('mpl') #Final Circuit"
   ]
  },
  {
   "cell_type": "markdown",
   "id": "051bcecd-fab2-434f-95f2-bce409d6a6d4",
   "metadata": {},
   "source": [
    "The input qubits are now measured and their classical putput gives you the hidden string α."
   ]
  },
  {
   "cell_type": "markdown",
   "id": "2e89f848-6b81-4e3d-a186-29a3230d0c2b",
   "metadata": {},
   "source": [
    "**Step 6** _Final Result Visualization_\n",
    "\n",
    "We now run the circuit and display the results."
   ]
  },
  {
   "cell_type": "code",
   "execution_count": 39,
   "id": "a0d446d7-923d-4663-a246-22a498e910f1",
   "metadata": {},
   "outputs": [],
   "source": [
    "#Import tools to simulate quantum state and visualize results\n",
    "from qiskit.quantum_info import Statevector\n",
    "from qiskit.visualization import plot_histogram\n",
    "import matplotlib.pyplot as plt"
   ]
  },
  {
   "cell_type": "code",
   "execution_count": 40,
   "id": "3cf75263-6833-40aa-a5a2-753f69cb5889",
   "metadata": {},
   "outputs": [],
   "source": [
    "#Remove final measurements so we can simulate quantum state\n",
    "qc_no_measure = qc.remove_final_measurements(inplace=False)"
   ]
  },
  {
   "cell_type": "code",
   "execution_count": 41,
   "id": "aeec1e2f-0820-46b7-83d2-e9d6ac901145",
   "metadata": {},
   "outputs": [],
   "source": [
    "#Get the final statevector after running the quantum circuit\n",
    "state = Statevector.from_instruction(qc_no_measure)"
   ]
  },
  {
   "cell_type": "markdown",
   "id": "9505c461-5107-420e-81d4-8e10dacba33d",
   "metadata": {},
   "source": [
    "This gives us a complete description of the quantum system just before measurement."
   ]
  },
  {
   "cell_type": "code",
   "execution_count": 43,
   "id": "8f631520-3f4e-452e-9d0f-0154ae2e2df0",
   "metadata": {},
   "outputs": [],
   "source": [
    "# Get probabilities for all outcomes\n",
    "probs = state.probabilities_dict()"
   ]
  },
  {
   "cell_type": "code",
   "execution_count": 44,
   "id": "0c4ef9e4-421d-4411-966f-65646273c8b8",
   "metadata": {},
   "outputs": [],
   "source": [
    "# Keep only the n bits corresponding to the input qubits\n",
    "n = qc.num_clbits #number of bits used to store result\n",
    "# Keep only significant probabilities (1e-6)\n",
    "#Shorten the bitstrings to the last n characters.\n",
    "filtered_probs = {bitstring[-n:]: prob for bitstring, prob in probs.items() if prob > 1e-6}"
   ]
  },
  {
   "cell_type": "markdown",
   "id": "d12245a6-e10c-439e-a2fa-738e2d468a6d",
   "metadata": {},
   "source": [
    "In the Bernstein Vazirani Algorithm, usually the last or first qubit isn't part of the hidden string So we slice out the last n bits, where n = number of classical bits (for input qubits)."
   ]
  },
  {
   "cell_type": "code",
   "execution_count": 46,
   "id": "3918bc03-0f11-4b24-bc4c-5905597be264",
   "metadata": {},
   "outputs": [
    {
     "name": "stdout",
     "output_type": "stream",
     "text": [
      "Measurement result (simulated): {'011': np.float64(0.49999999999999944)}\n"
     ]
    }
   ],
   "source": [
    "# Print and plot result\n",
    "print(\"Measurement result (simulated):\", filtered_probs)"
   ]
  },
  {
   "cell_type": "markdown",
   "id": "bc2382b4-9b5e-477f-91b7-328e6dea1f30",
   "metadata": {},
   "source": [
    "This shows the string we would see if we measured the qubits (the hidden string α)."
   ]
  },
  {
   "cell_type": "code",
   "execution_count": 48,
   "id": "078e833f-2615-45b3-90ca-1baa9c7ac108",
   "metadata": {},
   "outputs": [
    {
     "data": {
      "image/png": "[encoded data removed]",
      "text/plain": [
       "<Figure size 640x480 with 1 Axes>"
      ]
     },
     "metadata": {},
     "output_type": "display_data"
    }
   ],
   "source": [
    "#Plot the result as a histogram\n",
    "%matplotlib inline\n",
    "plot_histogram(filtered_probs)\n",
    "plt.show()"
   ]
  },
  {
   "cell_type": "markdown",
   "id": "03cd9f46-f674-47a6-8c25-3ab0695b88b7",
   "metadata": {},
   "source": [
    "The histogram shows us the result of measuring the qubits after running the Bernstein Vazirani algorithm. We see one tall bar labeled 011 which means that every single time we run the quantum circuit we measure the bitstring 011. \n",
    "\n",
    "_Why is this?_\n",
    "\n",
    "The hidden string α that we encoded in the oracle was 011 and the Bernstein-Vazirani algorithm is designed to find that hidden string in one run using quantum superposition and interference so when we measure the quantum state at the end, it reveals the hidden α which shows up in the histogram. There is only one bar so the probably is 1.0 or 100% and the algorithm ran sucessfully!"
   ]
  },
  {
   "cell_type": "markdown",
   "id": "4a203ce3-cf16-4bf8-a421-5fe7f88974d1",
   "metadata": {},
   "source": [
    "<span style=\"font-size: 18px;\">**Practice Yourself**\n",
    "\n",
    "Now that you've seen how the Bernstein-Vazirani algorithm works try some practice on your own!\n",
    "\n",
    "Use the template code below to reveal the hidden bitstring `α`. Change `alpha` and see if your circuit gives the correct result!\n",
    "\n",
    "**_Instructions_**\n",
    "1. Pick a new 3-bit string for `α`, like `'101'`, `'110'`, or `'001'`.\n",
    "2. Replace the value of `alpha` in the code.\n",
    "3. Run the code and check if the histogram shows your chosen `α`.\n",
    "4. Try at least **three different values** of `α`.\n",
    "\n",
    "If your code always finds the correct string...congrats! You understand the Bernstein Vazirani algorithm!!! :)\n"
   ]
  },
  {
   "cell_type": "code",
   "execution_count": 51,
   "id": "e9c377bb-ff50-48e9-bb1f-97c77169a866",
   "metadata": {},
   "outputs": [],
   "source": [
    "from qiskit import QuantumCircuit\n",
    "from qiskit.quantum_info import Statevector\n",
    "from qiskit.visualization import plot_histogram\n",
    "import matplotlib.pyplot as plt"
   ]
  },
  {
   "cell_type": "code",
   "execution_count": 52,
   "id": "ab5b4bd3-7686-42b6-9b3f-ff050028eb22",
   "metadata": {},
   "outputs": [],
   "source": [
    "# Pick a hidden bitstring α (3 bits long)\n",
    "alpha = '010'  # ← Change this to any 3-bit string you want!\n",
    "n = len(alpha)"
   ]
  },
  {
   "cell_type": "code",
   "execution_count": 53,
   "id": "1e5af35d-1506-41e1-bd46-ab489f1b8b7b",
   "metadata": {},
   "outputs": [],
   "source": [
    "#Step 1: Create a quantum circuit with n input qubits + 1 support qubit\n",
    "qc = QuantumCircuit(n + 1)"
   ]
  },
  {
   "cell_type": "code",
   "execution_count": 54,
   "id": "7e2f1960-bc1c-4908-bf04-2d211b61f09b",
   "metadata": {},
   "outputs": [
    {
     "data": {
      "text/plain": [
       "<qiskit.circuit.instructionset.InstructionSet at 0x184a1e36b90>"
      ]
     },
     "execution_count": 54,
     "metadata": {},
     "output_type": "execute_result"
    }
   ],
   "source": [
    "# Step 2: Initialize support qubit to |1⟩ using X gate\n",
    "qc.x(n)"
   ]
  },
  {
   "cell_type": "code",
   "execution_count": 55,
   "id": "e288bcc1-7ef7-4d1d-8064-8f95fddebf02",
   "metadata": {},
   "outputs": [
    {
     "data": {
      "text/plain": [
       "<qiskit.circuit.instructionset.InstructionSet at 0x184a1eeaa70>"
      ]
     },
     "execution_count": 55,
     "metadata": {},
     "output_type": "execute_result"
    }
   ],
   "source": [
    "# Step 3: Apply Hadamard gates to all qubits\n",
    "qc.h(range(n + 1))"
   ]
  },
  {
   "cell_type": "code",
   "execution_count": 56,
   "id": "2f4e2468-fe74-4b28-9080-7553819143ae",
   "metadata": {},
   "outputs": [],
   "source": [
    "# Step 4: Apply the oracle that flips the phase based on α\n",
    "for i, bit in enumerate(alpha):\n",
    "    if bit == '1':\n",
    "        qc.cx(i, n)"
   ]
  },
  {
   "cell_type": "code",
   "execution_count": 57,
   "id": "89acd58d-3d36-40a9-9308-67984e66f579",
   "metadata": {},
   "outputs": [
    {
     "data": {
      "text/plain": [
       "<qiskit.circuit.instructionset.InstructionSet at 0x184a1ee8220>"
      ]
     },
     "execution_count": 57,
     "metadata": {},
     "output_type": "execute_result"
    }
   ],
   "source": [
    "# Step 5: Apply Hadamard gates again to the input qubits\n",
    "qc.h(range(n))"
   ]
  },
  {
   "cell_type": "code",
   "execution_count": 58,
   "id": "9191e088-c942-4084-90be-d331051d489a",
   "metadata": {},
   "outputs": [],
   "source": [
    "# Step 6: Simulate the circuit to get the statevector\n",
    "qc_no_measure = qc.remove_final_measurements(inplace=False)\n",
    "state = Statevector.from_instruction(qc_no_measure)"
   ]
  },
  {
   "cell_type": "code",
   "execution_count": 59,
   "id": "f8669689-a114-4a68-a7ee-7f82906299b7",
   "metadata": {},
   "outputs": [],
   "source": [
    "# Step 7: Extract probabilities and filter for input qubits\n",
    "filtered_probs = {}\n",
    "for outcome, prob in probs.items():\n",
    "    # outcome example: '0101' (3 input + 1 ancilla)\n",
    "    input_bits = outcome[:-1][::-1]  # remove ancilla and reverse input qubits\n",
    "    \n",
    "    filtered_probs[input_bits] = prob"
   ]
  },
  {
   "cell_type": "code",
   "execution_count": 60,
   "id": "b64f364e-6c27-4d9f-8017-cdb01eb56ec3",
   "metadata": {},
   "outputs": [],
   "source": [
    "# Step 8: Keep only the most probable bitstring (hidden string)\n",
    "# Filter out ancilla and correct bit order for input qubits\n",
    "filtered_probs = {}\n",
    "for bitstring, prob in probs.items():\n",
    "    # bitstring format: ancilla qubit + input qubits (total n+1 bits)\n",
    "    # Remove ancilla (first bit) and reverse input qubits to get correct string\n",
    "    input_bits = bitstring[1:][::-1]  # drop ancilla at position 0, reverse rest\n",
    "    \n",
    "    filtered_probs[input_bits] = filtered_probs.get(input_bits, 0) + prob"
   ]
  },
  {
   "cell_type": "code",
   "execution_count": 61,
   "id": "3780dd85-5269-489e-ba84-23cb921b6e9e",
   "metadata": {},
   "outputs": [
    {
     "name": "stdout",
     "output_type": "stream",
     "text": [
      "Measurement result (simulated): {'000': np.float64(1.595577062755017e-68), '100': np.float64(5.577060207443596e-34), '010': np.float64(9.071053470133363e-35), '110': np.float64(0.9999999999999989), '001': np.float64(8.632586236046793e-102), '101': np.float64(8.43737825240404e-67), '011': np.float64(3.002618785089687e-68), '111': np.float64(1.8142106940266839e-34)}\n"
     ]
    },
    {
     "data": {
      "image/png": "[encoded data removed]",
      "text/plain": [
       "<Figure size 640x480 with 1 Axes>"
      ]
     },
     "metadata": {},
     "output_type": "display_data"
    }
   ],
   "source": [
    "# Step 9: Print and plot the result\n",
    "print(\"Measurement result (simulated):\", filtered_probs)\n",
    "plot_histogram(filtered_probs, title=f\"Bernstein-Vazirani Output for α = {alpha}\")\n",
    "plt.show()"
   ]
  },
  {
   "cell_type": "markdown",
   "id": "3d2edfa6-48e7-4b3a-80df-2ea43679f40a",
   "metadata": {},
   "source": [
    "<span style=\"font-size: 18px;\">**Local Testing Script Explanation**</span>"
   ]
  },
  {
   "cell_type": "markdown",
   "id": "9352e046-83f4-4064-980f-a38554b2bd91",
   "metadata": {},
   "source": [
    "This script tests whether the Bernstein-Vazirani algorithm is working correctly. It sets a known hidden string `alpha`, runs the full quantum algorithm on a simulator, and checks if the measured output matches `alpha`.\n",
    "\n",
    "_What does the script check?_\n",
    "\n",
    "It checks:\n",
    "- If the algorithm correctly identifies the hidden bitstring.\n",
    "- If the circuit structure and logic behave as expected.\n",
    "- That results are consistent on a simulator (before running on real quantum hardware).\n",
    "\n",
    "_How can you use the script?_\n",
    "\n",
    "1. Copy the Python code into a file named `bernstein_vazirani_test.py`.\n",
    "2. Run the script using this command in your terminal:\n",
    "3. If the algorithm works, it will print: Test Passed :) Yay!\n",
    "\n",
    "This is helpful because you can verify your code before actually using quantum resources."
   ]
  },
  {
   "cell_type": "markdown",
   "id": "2e8c8ad7-2797-493b-852a-2bc8eab40828",
   "metadata": {},
   "source": [
    "I created a `bernstein_vazirani_test.py` script that mirrors the notebook and checks if the Bernstein-Vazirani algorithm correctly returns the hidden string `α`.\n",
    "\n",
    "_What Does the Script Do?_\n",
    "\n",
    "- Initializes the quantum circuit with a known hidden string `α or alpha` (ex:, `'011'`).\n",
    "- Builds and runs the Bernstein-Vazirani algorithm using Qiskit's `Statevector` simulator.\n",
    "- Extracts the output string from the resulting quantum state (ignoring the support qubit).\n",
    "- Compares the result to the expected value and prints _Pass_ or _Fail_.\n",
    "\n",
    "_Python Code_\n",
    "1. Save the following code into a file named `bernstein_vazirani_test.py`:\n",
    "   ```python\n",
    "   from qiskit import QuantumCircuit\n",
    "   from qiskit.quantum_info import Statevector\n",
    "\n",
    "   def run_bv(hidden_string):\n",
    "       n = len(hidden_string)\n",
    "       qc = QuantumCircuit(n + 1, n)\n",
    "       \n",
    "       # Initialize support qubit to |1⟩\n",
    "       qc.x(n)\n",
    "       qc.h(range(n + 1))\n",
    "       \n",
    "       # Apply oracle based on hidden string\n",
    "       for i, bit in enumerate(hidden_string):\n",
    "           if bit == '1':\n",
    "               qc.cx(i, n)\n",
    "       \n",
    "       # Apply final Hadamard gates\n",
    "       qc.h(range(n))\n",
    "       \n",
    "       # Measure only input qubits\n",
    "       for i in range(n):\n",
    "           qc.measure(i, i)\n",
    "       \n",
    "       return qc\n",
    "    \n",
    "    def bernstein_vazirani_test(alpha):\n",
    "       qc = run_bv(alpha)\n",
    "\n",
    "   # Simulate the circuit without measurements\n",
    "    qc_no_measure = qc.remove_final_measurements(inplace=False)\n",
    "    state = Statevector.from_instruction(qc_no_measure)\n",
    "    probs = state.probabilities_dict()\n",
    "\n",
    "   # Ignore the support qubit (just get first n qubits)\n",
    "   output = max(probs, key=probs.get)[:len(alpha)]\n",
    "\n",
    "   print(f\"Expected: {alpha}\")\n",
    "\n",
    "   print(f\"Measured:\", {output}\")\n",
    "\n",
    "   if output == alpha:\n",
    "       print (\"Test Pass :) Yay!\")\n",
    "   else:\n",
    "       print(\"Test Fail :( Oh no!\")\n",
    "\n"
   ]
  },
  {
   "cell_type": "markdown",
   "id": "0b7147ff-b17b-4157-b8fc-e269e301a048",
   "metadata": {},
   "source": [
    "This code verifies that the logic of the Bernstein Vazirani circuit is correct before testing on real hardware or simulators."
   ]
  },
  {
   "cell_type": "markdown",
   "id": "1d3eb202-d3c7-4a32-9911-b485bbd6ac60",
   "metadata": {},
   "source": [
    "**Local Testing Script on Previous Example**"
   ]
  },
  {
   "cell_type": "code",
   "execution_count": 67,
   "id": "cca37ccf-f08a-4872-b59a-a0c912a91afb",
   "metadata": {},
   "outputs": [
    {
     "name": "stdout",
     "output_type": "stream",
     "text": [
      "Expected: 011\n",
      "Result: 011\n",
      "Test Pass! Yay! :)\n"
     ]
    }
   ],
   "source": [
    "from qiskit import QuantumCircuit\n",
    "from qiskit.quantum_info import Statevector\n",
    "\n",
    "def bernstein_vazirani_test(alpha: str):\n",
    "    n = len(alpha)\n",
    "    qc = QuantumCircuit(n + 1, n)\n",
    "\n",
    "    # Step 1: Initialize support qubit to |1⟩\n",
    "    qc.x(n)\n",
    "    qc.h(range(n + 1))\n",
    "\n",
    "    # Step 2: Apply oracle (black box function) for given alpha\n",
    "    for i, bit in enumerate(alpha):\n",
    "        if bit == '1':\n",
    "            qc.cx(i, n)\n",
    "\n",
    "    # Step 3: Apply Hadamard again to input qubits\n",
    "    qc.h(range(n))\n",
    "\n",
    "    # Step 4: Measure only input qubits\n",
    "    qc.measure(range(n), range(n))\n",
    "\n",
    "    # Step 5: Simulate using statevector\n",
    "    qc_no_measure = qc.remove_final_measurements(inplace=False)\n",
    "    state = Statevector.from_instruction(qc_no_measure)\n",
    "    probs = state.probabilities_dict()\n",
    "\n",
    "    # Only keep first n bits (ignore support qubit)\n",
    "    output = max(probs, key=probs.get)[:n]\n",
    "    \n",
    "    print(f\"Expected: {alpha}\")\n",
    "    print(f\"Result: {output}\")\n",
    "    if output == alpha:\n",
    "        print(\"Test Pass! Yay! :)\")\n",
    "    else:\n",
    "        print(\"Test Fail! Oh no! :(\")\n",
    "\n",
    "# Run test\n",
    "bernstein_vazirani_test(\"011\")\n"
   ]
  },
  {
   "cell_type": "markdown",
   "id": "bc8103a0-61b9-4ce6-8069-3217bb156498",
   "metadata": {},
   "source": [
    "<span style=\"font-size: 18px;\">**Running on Real Quantum Hardware**"
   ]
  },
  {
   "cell_type": "markdown",
   "id": "e50cafda-a5ee-4e65-950b-0c2003eebb98",
   "metadata": {},
   "source": [
    "To demonstrate the real-world execution of the Bernstein-Vazirani algorithm, I deployed it on IBM Quantum's cloud backend.\n",
    "\n",
    "I selected the backend `ibmq_quito` because:\n",
    "- It provides _5 qubits_, which is sufficient for our 3-input-bit BV algorithm (we need 4 qubits total: 3 input + 1 support qubit).\n",
    "- It has low queue times and reasonable calibration data.\n",
    "- It’s a real superconducting quantum processor and not a simulator!\n",
    "\n",
    "_What This Script Does_\n",
    "\n",
    "- Loads your IBM Quantum account.\n",
    "- Selects an appropriate backend.\n",
    "- Transpiles your quantum circuit for the hardware.\n",
    "- Submits the job.\n",
    "- Retrieves results using the Job ID.\n",
    "- Displays measurement outcomes from the real device.\n"
   ]
  },
  {
   "cell_type": "markdown",
   "id": "82318354-2bf3-4b90-838c-c50691028004",
   "metadata": {},
   "source": [
    "**Example Hardware Submission Code**"
   ]
  },
  {
   "cell_type": "markdown",
   "id": "28a930d4-4f6c-4351-9afd-e2f2dd3fbe30",
   "metadata": {},
   "source": [
    "I would choose a real backend like ibmq_lima or ibmq_belem which are real quantum devices and not simulators. They have atleast 5 qubits and our algorithm only requires n+1 qubits where n is the length of the hidden string. It is also less busy and have shorter wait times.\n",
    "\n",
    "_Why does this backend work?_\n",
    "\n",
    "The Bernstein Vazirani algorithm only requres n input qubits and one support qubit, basec operations such as hadamard gate and CNOT, and No entanglement across many qibits. Ibmq_lima (5 qubits) is fully capable of running this algorithm efficiently."
   ]
  },
  {
   "cell_type": "code",
   "execution_count": 72,
   "id": "da644afe-567c-46a3-9688-b73f029a8eeb",
   "metadata": {},
   "outputs": [
    {
     "data": {
      "text/plain": [
       "<qiskit.circuit.instructionset.InstructionSet at 0x1849fc245b0>"
      ]
     },
     "execution_count": 72,
     "metadata": {},
     "output_type": "execute_result"
    }
   ],
   "source": [
    "#from qiskit_ibm_provider import IBMProvider\n",
    "from qiskit import QuantumCircuit, transpile\n",
    "from qiskit.visualization import plot_histogram\n",
    "import matplotlib.pyplot as plt\n",
    "\n",
    "# Load your IBM Quantum account\n",
    "# provider = IBMProvider(token='YOUR_API_TOKEN_HERE')  # Replace with your real API token\n",
    "\n",
    "# Select least busy backend with at least 4 qubits and not a simulator\n",
    "# backend = provider.least_busy(min_num_qubits=4, simulator=False)\n",
    "\n",
    "# Create the Bernstein-Vazirani circuit for hidden string '011'\n",
    "alpha = '011'\n",
    "n = len(alpha)\n",
    "qc = QuantumCircuit(n + 1, n)\n",
    "qc.x(n)\n",
    "qc.h(range(n + 1))\n",
    "for i, bit in enumerate(alpha):\n",
    "    if bit == '1':\n",
    "        qc.cx(i, n)\n",
    "qc.h(range(n))\n",
    "qc.measure(range(n), range(n))\n",
    "\n",
    "# Transpile and submit the job\n",
    "# transpiled = transpile(qc, backend)\n",
    "# job = backend.run(transpiled)\n",
    "\n",
    "# Save the Job ID\n",
    "# print(\"Job ID:\", job.job_id())\n",
    "\n",
    "# Retrieve results later using the job ID\n",
    "# retrieved_job = backend.retrieve_job(\"YOUR_JOB_ID_HERE\")\n",
    "# result = retrieved_job.result()\n",
    "# counts = result.get_counts()\n",
    "# plot_histogram(counts)\n",
    "# plt.show()\n"
   ]
  },
  {
   "cell_type": "markdown",
   "id": "0d167932-f838-4246-bccb-f0fca4b37966",
   "metadata": {},
   "source": [
    "The backend name and job submission lines are commented for security development reasons and when actually runing on an IBM Quantum hardware you can change \"YOUR_API_TOKEN_HERE\" and \"YOUR_JOB_ID_HERE\" and the \"from qiskit_ibm_provider import IBMProvider\" is a comment to prevent an error in the code."
   ]
  },
  {
   "cell_type": "markdown",
   "id": "127d2321-4f29-4956-aa7a-595e11349281",
   "metadata": {},
   "source": [
    "<span style=\"font-size: 18px;\">**Estimate of Hardware Runtime**"
   ]
  },
  {
   "cell_type": "markdown",
   "id": "334f6e0e-293d-4bc7-a2bc-395cf803524b",
   "metadata": {},
   "source": [
    "This section provides an estimate of the runtime for executing the Bernstein-Vazirani algorithm on a real IBM Quantum backend such as ibmq_lima.\n",
    "\n",
    "**Runtime Details**:\n",
    "There are 4 qubits (3 input qubits for the hidden string alpha = '011' and one support aubit. The circuit depth is approximately 8 (including Hadamard gates, CNOT gates for the oracle, and final Hadamard gates before measurement) The number of shots is 1024 which is a standard number of shots to get a reliabl measurement distribution. THe estimated device runtime (excluding wait time) is 1-3 seconds. IBM quantum devices normally execute shallow circuits like this in under 5 seconds.\n",
    "\n"
   ]
  },
  {
   "cell_type": "markdown",
   "id": "72cbd647-0b10-4b95-9899-f9b68fdd7950",
   "metadata": {},
   "source": [
    "<span style=\"font-size: 18px;\">**Result Visualization**"
   ]
  },
  {
   "cell_type": "markdown",
   "id": "eeb2b920-d086-4fa5-80d2-b40e75c38d20",
   "metadata": {},
   "source": [
    "To understand the output of the Bernstein Vazirani algorithm I used several visualizations to verify that the circuit correctly identifies the hidden string."
   ]
  },
  {
   "cell_type": "code",
   "execution_count": 78,
   "id": "481c6719-670c-4312-b6b8-41bc58bb5474",
   "metadata": {},
   "outputs": [
    {
     "data": {
      "image/png": "[encoded data removed]",
      "text/plain": [
       "<Figure size 789.163x451.5 with 1 Axes>"
      ]
     },
     "execution_count": 78,
     "metadata": {},
     "output_type": "execute_result"
    },
    {
     "data": {
      "image/png": "[encoded data removed]",
      "text/plain": [
       "<Figure size 789.163x451.5 with 1 Axes>"
      ]
     },
     "metadata": {},
     "output_type": "display_data"
    }
   ],
   "source": [
    "from qiskit import QuantumCircuit\n",
    "from qiskit.visualization import plot_circuit_layout\n",
    "\n",
    "# Example with hidden string '011'\n",
    "alpha = '011'\n",
    "n = len(alpha)\n",
    "qc = QuantumCircuit(n + 1, n)\n",
    "\n",
    "qc.x(n)  # initialize ancilla\n",
    "qc.h(range(n + 1))  # apply Hadamards\n",
    "\n",
    "# oracle\n",
    "for i, bit in enumerate(alpha):\n",
    "    if bit == '1':\n",
    "        qc.cx(i, n)\n",
    "\n",
    "qc.h(range(n))  # final Hadamards\n",
    "qc.measure(range(n), range(n))  # measurement\n",
    "\n",
    "qc.draw(\"mpl\")\n"
   ]
  },
  {
   "cell_type": "markdown",
   "id": "34d2be95-1a12-434c-afe7-f8c849942317",
   "metadata": {},
   "source": [
    "This shows the quantum logic of the algorithm, including Hadamard gates, CNOTs for the oracle and final Hadamard gates. The diagram confirms the circuit structure of 3 input aubits + 1 support qubit oracle operations and proper Hadamard gates."
   ]
  },
  {
   "cell_type": "code",
   "execution_count": 80,
   "id": "f5e0908f-26df-443d-805b-0693fae7c36d",
   "metadata": {},
   "outputs": [
    {
     "data": {
      "image/png": "[encoded data removed]",
      "text/plain": [
       "<Figure size 640x480 with 1 Axes>"
      ]
     },
     "metadata": {},
     "output_type": "display_data"
    }
   ],
   "source": [
    "from qiskit import QuantumCircuit\n",
    "from qiskit.quantum_info import Statevector\n",
    "from qiskit.visualization import plot_histogram\n",
    "import matplotlib.pyplot as plt\n",
    "\n",
    "# STEP 1: Define the hidden binary string alpha (this is what we want to find)\n",
    "alpha = '011'  # Hidden string\n",
    "n = len(alpha)  # Number of input qubits\n",
    "\n",
    "# STEP 2: Create a quantum circuit with n input qubits + 1 ancilla qubit\n",
    "qc = QuantumCircuit(n + 1)\n",
    "\n",
    "# STEP 3: Initialize the ancilla qubit to |1⟩ by applying an X gate\n",
    "qc.x(n)\n",
    "\n",
    "# STEP 4: Apply Hadamard gates to all qubits (including ancilla)\n",
    "qc.h(range(n + 1))\n",
    "\n",
    "# STEP 5: Apply the oracle U_f for the Bernstein-Vazirani problem\n",
    "# This flips the ancilla qubit if alpha_i = 1\n",
    "for i, bit in enumerate(reversed(alpha)):\n",
    "    if bit == '1':\n",
    "        qc.cx(i, n)  # control on input qubit, target on ancilla\n",
    "\n",
    "# STEP 6: Apply Hadamard gates to the input qubits only\n",
    "qc.h(range(n))\n",
    "\n",
    "# (Optional) View the circuit\n",
    "# print(qc.draw())\n",
    "\n",
    "# STEP 7: Simulate the circuit (without measurement) using Statevector\n",
    "# We use remove_final_measurements in case we reused an old circuit\n",
    "qc_clean = qc.remove_final_measurements(inplace=False)\n",
    "final_state = Statevector.from_instruction(qc_clean)\n",
    "\n",
    "# STEP 8: Get measurement probabilities of the full quantum state\n",
    "probs = final_state.probabilities_dict()\n",
    "\n",
    "# STEP 9: Filter out the ancilla qubit (we only care about the input qubits)\n",
    "# In Qiskit, qubit order is little-endian (rightmost is qubit 0)\n",
    "filtered_probs = {}\n",
    "for bitstring, prob in probs.items():\n",
    "    input_bits = bitstring[-n:]  # take only the last n bits (input qubits)\n",
    "    filtered_probs[input_bits] = filtered_probs.get(input_bits, 0) + prob\n",
    "\n",
    "# STEP 10: Plot the histogram (should show one peak at the hidden string)\n",
    "plot_histogram(filtered_probs, title=\"Bernstein-Vazirani Output (Statevector)\")\n",
    "plt.show()"
   ]
  },
  {
   "cell_type": "markdown",
   "id": "ea723f33-6e15-4f9c-b5de-8dcb200bcdce",
   "metadata": {},
   "source": [
    "This histogram shows the result of the Bernstein-Vazirani quantum algorithm and shows the quantum circuit correctly identifying the secret string with 100% certainity. Unlike classical guessing, the quantum approach uses interference to eliminate all wrong answers leaving only the correct one visible in the results."
   ]
  },
  {
   "cell_type": "markdown",
   "id": "aba4a7ee-88b2-44cd-bffa-618aa6b20576",
   "metadata": {},
   "source": [
    "<span style=\"font-size: 18px;\">**Tunable Final Example**"
   ]
  },
  {
   "cell_type": "markdown",
   "id": "aa3bfff7-3698-481d-b180-28ca87acd8de",
   "metadata": {},
   "source": [
    "This code allows users to explore how different settings affect the Bernstein Vazirani algorithm. \n",
    "\n",
    "_You can Modify:_\n",
    "\n",
    "- The hidden string (alpha) to try different target answers\n",
    "- The number of qubits which adjusts automatically based on alpha\n",
    "- The number of measurement shots to see how sampling affects the histogram"
   ]
  },
  {
   "cell_type": "code",
   "execution_count": 84,
   "id": "9a12fb04-19b9-4636-8773-70c824f25aec",
   "metadata": {},
   "outputs": [
    {
     "data": {
      "image/png": "[encoded data removed]",
      "text/plain": [
       "<Figure size 640x480 with 1 Axes>"
      ]
     },
     "metadata": {},
     "output_type": "display_data"
    }
   ],
   "source": [
    "from qiskit import QuantumCircuit\n",
    "from qiskit.quantum_info import Statevector\n",
    "from qiskit.visualization import plot_histogram\n",
    "import matplotlib.pyplot as plt\n",
    "\n",
    "# CHANGE THESE PARAMETERS:\n",
    "alpha = '1011'  # Hidden binary string\n",
    "n = len(alpha)  # Number of input qubits\n",
    "\n",
    "# Step 1: Create a quantum circuit with (n input + 1 ancilla) qubits, and n classical bits\n",
    "qc = QuantumCircuit(n + 1, n)\n",
    "\n",
    "# Step 2: Initialize the support qubit to |1⟩ using X gate\n",
    "qc.x(n)\n",
    "\n",
    "# Step 3: Apply Hadamard gates to all qubits (including support qubit)\n",
    "qc.h(range(n + 1))\n",
    "\n",
    "# Step 4: Oracle, encode the hidden string into the circuit\n",
    "for i, bit in enumerate(alpha):\n",
    "    if bit == '1':\n",
    "        qc.cx(i, n)\n",
    "\n",
    "# Step 5: Apply Hadamard gates to only the input qubits\n",
    "qc.h(range(n))\n",
    "\n",
    "# Step 6: Simulate the circuit (no measurements needed)\n",
    "qc_no_measure = qc.remove_final_measurements(inplace=False)\n",
    "state = Statevector.from_instruction(qc_no_measure)\n",
    "\n",
    "# Step 7: Get the full statevector probabilities\n",
    "probs = state.probabilities_dict()\n",
    "\n",
    "# Step 8: Filter out the ancilla qubit — only keep input qubit bits\n",
    "filtered_probs = {}\n",
    "for outcome, prob in probs.items():\n",
    "    # Extract input qubits and reverse to big-endian convention\n",
    "    input_bits = outcome[-(n + 1):-1][::-1]  # Keep input qubits, ignore ancilla\n",
    "    if prob > 0:  # Ignore zero-probability states\n",
    "        filtered_probs[input_bits] = prob\n",
    "\n",
    "# Keep only the bit string with the highest probability (should correspond to α)\n",
    "max_prob_key = max(filtered_probs, key=filtered_probs.get)\n",
    "filtered_probs = {max_prob_key: filtered_probs[max_prob_key]}\n",
    "\n",
    "# Step 9: Plot the histogram\n",
    "plot_histogram(filtered_probs, title=f\"Bernstein-Vazirani Output for α = {alpha}\")\n",
    "plt.show()"
   ]
  },
  {
   "cell_type": "markdown",
   "id": "25f2b251-bf47-4b0c-9aa4-0fff4271b865",
   "metadata": {},
   "source": [
    "Try different values for alpha like 000, 111, or even 1001. You can increase or decrease shots to see how sampling changes the output. "
   ]
  },
  {
   "cell_type": "markdown",
   "id": "0c901162-cd06-4c47-8e1d-3da456304b65",
   "metadata": {},
   "source": [
    "**Yay!! You finished the tutorial for the Bernstein Vazirani Algorithm :)**"
   ]
  },
  {
   "cell_type": "code",
   "execution_count": null,
   "id": "96cbbea0-4227-41ae-ba77-8dab19bf7b19",
   "metadata": {},
   "outputs": [],
   "source": []
  }
 ],
 "metadata": {
  "kernelspec": {
   "display_name": "Python 3 (ipykernel)",
   "language": "python",
   "name": "python3"
  },
  "language_info": {
   "codemirror_mode": {
    "name": "ipython",
    "version": 3
   },
   "file_extension": ".py",
   "mimetype": "text/x-python",
   "name": "python",
   "nbconvert_exporter": "python",
   "pygments_lexer": "ipython3",
   "version": "3.13.3"
  }
 },
 "nbformat": 4,
 "nbformat_minor": 5
}
